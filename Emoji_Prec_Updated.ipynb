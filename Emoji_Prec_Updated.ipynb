{
  "metadata": {
    "kernelspec": {
      "language": "python",
      "display_name": "Python 3",
      "name": "python3"
    },
    "language_info": {
      "name": "python",
      "version": "3.7.12",
      "mimetype": "text/x-python",
      "codemirror_mode": {
        "name": "ipython",
        "version": 3
      },
      "pygments_lexer": "ipython3",
      "nbconvert_exporter": "python",
      "file_extension": ".py"
    },
    "colab": {
      "name": "Emoji_Prec_Updated.ipynb",
      "provenance": []
    }
  },
  "nbformat_minor": 0,
  "nbformat": 4,
  "cells": [
    {
      "cell_type": "code",
      "source": [
        "import numpy as np\n",
        "import pandas as pd\n",
        "import nltk\n",
        "#nltk.download('punkt')\n",
        "from nltk.tokenize import word_tokenize\n",
        "#!pip install emoji\n",
        "import emoji as emoji\n",
        "import warnings\n",
        "warnings.filterwarnings(\"ignore\")\n",
        "import tensorflow as tf\n",
        "import nltk\n",
        "import tensorflow_hub as hub\n",
        "import nltk\n",
        "nltk.download('punkt')"
      ],
      "metadata": {
        "id": "uGUU3JHgXLrC",
        "execution": {
          "iopub.status.busy": "2022-02-04T19:13:06.079180Z",
          "iopub.execute_input": "2022-02-04T19:13:06.079732Z",
          "iopub.status.idle": "2022-02-04T19:13:06.085318Z",
          "shell.execute_reply.started": "2022-02-04T19:13:06.079694Z",
          "shell.execute_reply": "2022-02-04T19:13:06.084133Z"
        },
        "trusted": true,
        "colab": {
          "base_uri": "https://localhost:8080/"
        },
        "outputId": "026ac036-8ca8-4cb5-8a9d-ef35631156a2"
      },
      "execution_count": 34,
      "outputs": [
        {
          "output_type": "stream",
          "name": "stdout",
          "text": [
            "[nltk_data] Downloading package punkt to /root/nltk_data...\n",
            "[nltk_data]   Unzipping tokenizers/punkt.zip.\n"
          ]
        },
        {
          "output_type": "execute_result",
          "data": {
            "text/plain": [
              "True"
            ]
          },
          "metadata": {},
          "execution_count": 34
        }
      ]
    },
    {
      "cell_type": "code",
      "source": [
        "train_X = pd.read_csv('/emojify_train_x.csv',header=None)\n",
        "test_X = pd.read_csv('/emojiy_test_x.csv',header=None)\n",
        "\n",
        "train_Y = pd.read_csv('/Emojify_Y_train.csv',header=None)\n",
        "test_Y = pd.read_csv('/emojiy_y_test.csv',header=None)"
      ],
      "metadata": {
        "id": "41qv81lmXLrQ",
        "execution": {
          "iopub.status.busy": "2022-02-04T19:13:06.087375Z",
          "iopub.execute_input": "2022-02-04T19:13:06.087637Z",
          "iopub.status.idle": "2022-02-04T19:13:06.111752Z",
          "shell.execute_reply.started": "2022-02-04T19:13:06.087597Z",
          "shell.execute_reply": "2022-02-04T19:13:06.110974Z"
        },
        "trusted": true
      },
      "execution_count": 28,
      "outputs": []
    },
    {
      "cell_type": "code",
      "source": [
        "frames = [train_X , test_X]\n",
        "X = pd.concat(frames)\n",
        "X.shape"
      ],
      "metadata": {
        "id": "r2JegODbXLrQ",
        "outputId": "3df1afb9-4b86-4a58-aed5-1e37c0c16877",
        "execution": {
          "iopub.status.busy": "2022-02-04T19:13:06.113238Z",
          "iopub.execute_input": "2022-02-04T19:13:06.113746Z",
          "iopub.status.idle": "2022-02-04T19:13:06.125617Z",
          "shell.execute_reply.started": "2022-02-04T19:13:06.113700Z",
          "shell.execute_reply": "2022-02-04T19:13:06.124763Z"
        },
        "trusted": true,
        "colab": {
          "base_uri": "https://localhost:8080/"
        }
      },
      "execution_count": 29,
      "outputs": [
        {
          "output_type": "execute_result",
          "data": {
            "text/plain": [
              "(188, 1)"
            ]
          },
          "metadata": {},
          "execution_count": 29
        }
      ]
    },
    {
      "cell_type": "code",
      "source": [
        "frames = [train_Y , test_Y]\n",
        "Y = pd.concat(frames)\n",
        "Y.shape"
      ],
      "metadata": {
        "id": "GW8abFRUdllf",
        "outputId": "db300f47-d6f1-48b4-e4a9-a7c0baff1cd6",
        "execution": {
          "iopub.status.busy": "2022-02-04T19:13:06.127920Z",
          "iopub.execute_input": "2022-02-04T19:13:06.128782Z",
          "iopub.status.idle": "2022-02-04T19:13:06.142034Z",
          "shell.execute_reply.started": "2022-02-04T19:13:06.128726Z",
          "shell.execute_reply": "2022-02-04T19:13:06.141213Z"
        },
        "trusted": true,
        "colab": {
          "base_uri": "https://localhost:8080/"
        }
      },
      "execution_count": 30,
      "outputs": [
        {
          "output_type": "execute_result",
          "data": {
            "text/plain": [
              "(188, 1)"
            ]
          },
          "metadata": {},
          "execution_count": 30
        }
      ]
    },
    {
      "cell_type": "code",
      "source": [
        "import re as s\n",
        "def clean(train):\n",
        "  List = train.iloc[:,0].tolist()\n",
        "  Regex = str.maketrans(\"\",\"\",\"'\")\n",
        "  word = [s.translate(Regex) for s in List]\n",
        "  tokenized_sent = []\n",
        "  for s in word:\n",
        "    tokenized_sent.append(word_tokenize(s.lower())) \n",
        "  return word , tokenized_sent\n",
        "\n",
        "\n",
        "trained_list , trained_and_tokened_list = clean(X)"
      ],
      "metadata": {
        "id": "3U0Zn0JLkJ2j",
        "execution": {
          "iopub.status.busy": "2022-02-04T19:13:06.143216Z",
          "iopub.execute_input": "2022-02-04T19:13:06.143585Z",
          "iopub.status.idle": "2022-02-04T19:13:06.192982Z",
          "shell.execute_reply.started": "2022-02-04T19:13:06.143554Z",
          "shell.execute_reply": "2022-02-04T19:13:06.191976Z"
        },
        "trusted": true
      },
      "execution_count": 35,
      "outputs": []
    },
    {
      "cell_type": "code",
      "source": [
        "def cosine(u, v):\n",
        "    return np.dot(u, v) / (np.linalg.norm(u) * np.linalg.norm(v))\n",
        "\n",
        "module_url = \"https://tfhub.dev/google/universal-sentence-encoder/4\" \n",
        "model_e = hub.load(module_url)\n",
        "print (\"module %s loaded\" % module_url)\n",
        "\n",
        "sentence_embeddings = model_e(trained_list)\n"
      ],
      "metadata": {
        "id": "2RMYOCfYrTcW",
        "outputId": "f43c5f11-9f49-4e80-8d77-96d608e5a097",
        "execution": {
          "iopub.status.busy": "2022-02-04T19:13:06.194427Z",
          "iopub.execute_input": "2022-02-04T19:13:06.195330Z",
          "iopub.status.idle": "2022-02-04T19:13:31.722105Z",
          "shell.execute_reply.started": "2022-02-04T19:13:06.195281Z",
          "shell.execute_reply": "2022-02-04T19:13:31.720679Z"
        },
        "trusted": true,
        "colab": {
          "base_uri": "https://localhost:8080/"
        }
      },
      "execution_count": 36,
      "outputs": [
        {
          "output_type": "stream",
          "name": "stdout",
          "text": [
            "module https://tfhub.dev/google/universal-sentence-encoder/4 loaded\n"
          ]
        }
      ]
    },
    {
      "cell_type": "code",
      "source": [
        "category = Y.iloc[:,0].tolist()\n",
        "category_ohe = pd.get_dummies(category)"
      ],
      "metadata": {
        "id": "VON0EKVzvf7X",
        "execution": {
          "iopub.status.busy": "2022-02-04T19:13:31.725018Z",
          "iopub.execute_input": "2022-02-04T19:13:31.725698Z",
          "iopub.status.idle": "2022-02-04T19:13:31.760409Z",
          "shell.execute_reply.started": "2022-02-04T19:13:31.725645Z",
          "shell.execute_reply": "2022-02-04T19:13:31.759761Z"
        },
        "trusted": true
      },
      "execution_count": 37,
      "outputs": []
    },
    {
      "cell_type": "code",
      "source": [
        "from sklearn.model_selection import train_test_split\n",
        "X_train, X_test, y_train, y_test = train_test_split(sentence_embeddings.numpy(), category_ohe, test_size=0.33, random_state=42)"
      ],
      "metadata": {
        "id": "QHKZbca_5RTt",
        "execution": {
          "iopub.status.busy": "2022-02-04T19:13:31.762368Z",
          "iopub.execute_input": "2022-02-04T19:13:31.762747Z",
          "iopub.status.idle": "2022-02-04T19:13:31.776898Z",
          "shell.execute_reply.started": "2022-02-04T19:13:31.762716Z",
          "shell.execute_reply": "2022-02-04T19:13:31.776148Z"
        },
        "trusted": true
      },
      "execution_count": 38,
      "outputs": []
    },
    {
      "cell_type": "code",
      "source": [
        "from keras.layers import *\n",
        "from keras.models import Sequential\n",
        "model = Sequential()\n",
        "model.add(Dense(64, input_dim=512, activation='relu'))\n",
        "model.add(Dense(128, activation='relu'))\n",
        "model.add(Dense(5, activation='sigmoid'))\n",
        "model.compile(\n",
        "    optimizer='adam',\n",
        "    loss='categorical_crossentropy',\n",
        "    metrics=['acc'])\n",
        "model.fit(X_train,y_train,epochs=40,shuffle=True,validation_split=0.1)"
      ],
      "metadata": {
        "id": "ZPX5jGSiXLrb",
        "outputId": "5f8b4792-d5f6-48db-b317-417758e04149",
        "execution": {
          "iopub.status.busy": "2022-02-04T19:13:31.778787Z",
          "iopub.execute_input": "2022-02-04T19:13:31.779266Z",
          "iopub.status.idle": "2022-02-04T19:13:36.267404Z",
          "shell.execute_reply.started": "2022-02-04T19:13:31.779204Z",
          "shell.execute_reply": "2022-02-04T19:13:36.265955Z"
        },
        "trusted": true,
        "colab": {
          "base_uri": "https://localhost:8080/"
        }
      },
      "execution_count": 39,
      "outputs": [
        {
          "output_type": "stream",
          "name": "stdout",
          "text": [
            "Epoch 1/40\n",
            "4/4 [==============================] - 1s 85ms/step - loss: 1.6031 - acc: 0.2321 - val_loss: 1.5887 - val_acc: 0.3846\n",
            "Epoch 2/40\n",
            "4/4 [==============================] - 0s 15ms/step - loss: 1.5606 - acc: 0.4911 - val_loss: 1.5484 - val_acc: 0.3846\n",
            "Epoch 3/40\n",
            "4/4 [==============================] - 0s 16ms/step - loss: 1.5212 - acc: 0.5446 - val_loss: 1.5000 - val_acc: 0.4615\n",
            "Epoch 4/40\n",
            "4/4 [==============================] - 0s 15ms/step - loss: 1.4667 - acc: 0.5714 - val_loss: 1.4408 - val_acc: 0.4615\n",
            "Epoch 5/40\n",
            "4/4 [==============================] - 0s 13ms/step - loss: 1.4002 - acc: 0.5982 - val_loss: 1.3610 - val_acc: 0.6154\n",
            "Epoch 6/40\n",
            "4/4 [==============================] - 0s 15ms/step - loss: 1.3150 - acc: 0.6875 - val_loss: 1.2610 - val_acc: 0.7692\n",
            "Epoch 7/40\n",
            "4/4 [==============================] - 0s 12ms/step - loss: 1.2130 - acc: 0.7411 - val_loss: 1.1423 - val_acc: 0.7692\n",
            "Epoch 8/40\n",
            "4/4 [==============================] - 0s 13ms/step - loss: 1.0949 - acc: 0.8125 - val_loss: 1.0150 - val_acc: 0.7692\n",
            "Epoch 9/40\n",
            "4/4 [==============================] - 0s 12ms/step - loss: 0.9649 - acc: 0.8661 - val_loss: 0.8740 - val_acc: 0.7692\n",
            "Epoch 10/40\n",
            "4/4 [==============================] - 0s 13ms/step - loss: 0.8288 - acc: 0.8839 - val_loss: 0.7373 - val_acc: 0.7692\n",
            "Epoch 11/40\n",
            "4/4 [==============================] - 0s 12ms/step - loss: 0.6966 - acc: 0.9286 - val_loss: 0.6228 - val_acc: 0.9231\n",
            "Epoch 12/40\n",
            "4/4 [==============================] - 0s 15ms/step - loss: 0.5708 - acc: 0.9375 - val_loss: 0.5254 - val_acc: 0.9231\n",
            "Epoch 13/40\n",
            "4/4 [==============================] - 0s 13ms/step - loss: 0.4579 - acc: 0.9554 - val_loss: 0.4488 - val_acc: 0.9231\n",
            "Epoch 14/40\n",
            "4/4 [==============================] - 0s 13ms/step - loss: 0.3565 - acc: 0.9732 - val_loss: 0.3845 - val_acc: 0.9231\n",
            "Epoch 15/40\n",
            "4/4 [==============================] - 0s 13ms/step - loss: 0.2787 - acc: 0.9821 - val_loss: 0.3295 - val_acc: 0.9231\n",
            "Epoch 16/40\n",
            "4/4 [==============================] - 0s 13ms/step - loss: 0.2135 - acc: 0.9911 - val_loss: 0.2903 - val_acc: 0.9231\n",
            "Epoch 17/40\n",
            "4/4 [==============================] - 0s 14ms/step - loss: 0.1646 - acc: 1.0000 - val_loss: 0.2617 - val_acc: 0.9231\n",
            "Epoch 18/40\n",
            "4/4 [==============================] - 0s 13ms/step - loss: 0.1278 - acc: 1.0000 - val_loss: 0.2413 - val_acc: 0.9231\n",
            "Epoch 19/40\n",
            "4/4 [==============================] - 0s 14ms/step - loss: 0.0972 - acc: 1.0000 - val_loss: 0.2210 - val_acc: 0.9231\n",
            "Epoch 20/40\n",
            "4/4 [==============================] - 0s 13ms/step - loss: 0.0764 - acc: 1.0000 - val_loss: 0.2066 - val_acc: 0.9231\n",
            "Epoch 21/40\n",
            "4/4 [==============================] - 0s 17ms/step - loss: 0.0597 - acc: 1.0000 - val_loss: 0.1960 - val_acc: 0.9231\n",
            "Epoch 22/40\n",
            "4/4 [==============================] - 0s 13ms/step - loss: 0.0482 - acc: 1.0000 - val_loss: 0.1893 - val_acc: 0.9231\n",
            "Epoch 23/40\n",
            "4/4 [==============================] - 0s 15ms/step - loss: 0.0399 - acc: 1.0000 - val_loss: 0.1847 - val_acc: 0.9231\n",
            "Epoch 24/40\n",
            "4/4 [==============================] - 0s 13ms/step - loss: 0.0330 - acc: 1.0000 - val_loss: 0.1806 - val_acc: 0.9231\n",
            "Epoch 25/40\n",
            "4/4 [==============================] - 0s 13ms/step - loss: 0.0280 - acc: 1.0000 - val_loss: 0.1778 - val_acc: 0.9231\n",
            "Epoch 26/40\n",
            "4/4 [==============================] - 0s 16ms/step - loss: 0.0241 - acc: 1.0000 - val_loss: 0.1727 - val_acc: 0.9231\n",
            "Epoch 27/40\n",
            "4/4 [==============================] - 0s 12ms/step - loss: 0.0210 - acc: 1.0000 - val_loss: 0.1696 - val_acc: 0.9231\n",
            "Epoch 28/40\n",
            "4/4 [==============================] - 0s 12ms/step - loss: 0.0183 - acc: 1.0000 - val_loss: 0.1663 - val_acc: 0.9231\n",
            "Epoch 29/40\n",
            "4/4 [==============================] - 0s 13ms/step - loss: 0.0164 - acc: 1.0000 - val_loss: 0.1633 - val_acc: 0.9231\n",
            "Epoch 30/40\n",
            "4/4 [==============================] - 0s 14ms/step - loss: 0.0146 - acc: 1.0000 - val_loss: 0.1619 - val_acc: 0.9231\n",
            "Epoch 31/40\n",
            "4/4 [==============================] - 0s 16ms/step - loss: 0.0133 - acc: 1.0000 - val_loss: 0.1595 - val_acc: 0.9231\n",
            "Epoch 32/40\n",
            "4/4 [==============================] - 0s 14ms/step - loss: 0.0120 - acc: 1.0000 - val_loss: 0.1587 - val_acc: 0.9231\n",
            "Epoch 33/40\n",
            "4/4 [==============================] - 0s 13ms/step - loss: 0.0110 - acc: 1.0000 - val_loss: 0.1585 - val_acc: 0.9231\n",
            "Epoch 34/40\n",
            "4/4 [==============================] - 0s 13ms/step - loss: 0.0101 - acc: 1.0000 - val_loss: 0.1580 - val_acc: 0.9231\n",
            "Epoch 35/40\n",
            "4/4 [==============================] - 0s 14ms/step - loss: 0.0093 - acc: 1.0000 - val_loss: 0.1569 - val_acc: 0.9231\n",
            "Epoch 36/40\n",
            "4/4 [==============================] - 0s 17ms/step - loss: 0.0087 - acc: 1.0000 - val_loss: 0.1557 - val_acc: 0.9231\n",
            "Epoch 37/40\n",
            "4/4 [==============================] - 0s 14ms/step - loss: 0.0081 - acc: 1.0000 - val_loss: 0.1548 - val_acc: 0.9231\n",
            "Epoch 38/40\n",
            "4/4 [==============================] - 0s 15ms/step - loss: 0.0076 - acc: 1.0000 - val_loss: 0.1544 - val_acc: 0.9231\n",
            "Epoch 39/40\n",
            "4/4 [==============================] - 0s 13ms/step - loss: 0.0071 - acc: 1.0000 - val_loss: 0.1544 - val_acc: 0.9231\n",
            "Epoch 40/40\n",
            "4/4 [==============================] - 0s 15ms/step - loss: 0.0067 - acc: 1.0000 - val_loss: 0.1541 - val_acc: 0.9231\n"
          ]
        },
        {
          "output_type": "execute_result",
          "data": {
            "text/plain": [
              "<keras.callbacks.History at 0x7efe079e8c90>"
            ]
          },
          "metadata": {},
          "execution_count": 39
        }
      ]
    },
    {
      "cell_type": "code",
      "source": [
        "model.evaluate(X_test,y_test)"
      ],
      "metadata": {
        "id": "FNYSFjf9XLrc",
        "outputId": "c5c718f9-501b-4779-9c7a-cae374ea84ee",
        "execution": {
          "iopub.status.busy": "2022-02-04T19:13:36.270983Z",
          "iopub.execute_input": "2022-02-04T19:13:36.271789Z",
          "iopub.status.idle": "2022-02-04T19:13:36.399915Z",
          "shell.execute_reply.started": "2022-02-04T19:13:36.271735Z",
          "shell.execute_reply": "2022-02-04T19:13:36.398358Z"
        },
        "trusted": true,
        "colab": {
          "base_uri": "https://localhost:8080/"
        }
      },
      "execution_count": 40,
      "outputs": [
        {
          "output_type": "stream",
          "name": "stdout",
          "text": [
            "2/2 [==============================] - 0s 6ms/step - loss: 0.4370 - acc: 0.8413\n"
          ]
        },
        {
          "output_type": "execute_result",
          "data": {
            "text/plain": [
              "[0.43697020411491394, 0.841269850730896]"
            ]
          },
          "metadata": {},
          "execution_count": 40
        }
      ]
    },
    {
      "cell_type": "code",
      "source": [
        "import emoji as emoji\n",
        "#emoji.EMOJI_ALIAS_UNICODE\n",
        "\n",
        "emoji_dictionary = {\"0\": \"\\u2764\\uFE0F\",    # :heart: prints a black instead of red heart depending on the font\n",
        "                    \"1\": \":baseball:\",\n",
        "                    \"2\": \":beaming_face_with_smiling_eyes:\",\n",
        "                    \"3\": \":downcast_face_with_sweat:\",\n",
        "                    \"4\": \":fork_and_knife:\",\n",
        "                   }\n"
      ],
      "metadata": {
        "id": "BxLCUshv8EO9",
        "execution": {
          "iopub.status.busy": "2022-02-04T19:13:36.402089Z",
          "iopub.execute_input": "2022-02-04T19:13:36.403364Z",
          "iopub.status.idle": "2022-02-04T19:13:36.409204Z",
          "shell.execute_reply.started": "2022-02-04T19:13:36.403311Z",
          "shell.execute_reply": "2022-02-04T19:13:36.408236Z"
        },
        "trusted": true
      },
      "execution_count": 41,
      "outputs": []
    },
    {
      "cell_type": "code",
      "source": [
        "for e in emoji_dictionary.values():\n",
        "    print(emoji.emojize(e))"
      ],
      "metadata": {
        "id": "D4yZT1xb-mdc",
        "outputId": "99e31960-369a-422b-8cdf-e04828356a31",
        "execution": {
          "iopub.status.busy": "2022-02-04T19:13:36.410968Z",
          "iopub.execute_input": "2022-02-04T19:13:36.411752Z",
          "iopub.status.idle": "2022-02-04T19:13:36.427430Z",
          "shell.execute_reply.started": "2022-02-04T19:13:36.411681Z",
          "shell.execute_reply": "2022-02-04T19:13:36.426316Z"
        },
        "trusted": true,
        "colab": {
          "base_uri": "https://localhost:8080/"
        }
      },
      "execution_count": 42,
      "outputs": [
        {
          "output_type": "stream",
          "name": "stdout",
          "text": [
            "❤️\n",
            "⚾\n",
            "😁\n",
            "😓\n",
            "🍴\n"
          ]
        }
      ]
    },
    {
      "cell_type": "code",
      "source": [
        "query = ['I am gping to temple']\n",
        "inp = model_e(query)\n",
        "out =  model.predict(inp).flatten().tolist()\n",
        "\n",
        "max_value = max(out)\n",
        "max_index = out.index(max_value)\n",
        "\n",
        "print(out)\n",
        "print(max_value)\n",
        "print(max_index)\n",
        "\n",
        "\n",
        "\n",
        "print('Statement is :  '+query[0])\n",
        "print('Classification Result is :  '+emoji.emojize(emoji_dictionary[str(max_index)]))\n",
        "\n"
      ],
      "metadata": {
        "id": "MFgggM447e3y",
        "outputId": "c12dcac6-b01c-4067-d202-fa4f14b92129",
        "execution": {
          "iopub.status.busy": "2022-02-04T19:43:04.100882Z",
          "iopub.execute_input": "2022-02-04T19:43:04.101204Z",
          "iopub.status.idle": "2022-02-04T19:43:04.171472Z",
          "shell.execute_reply.started": "2022-02-04T19:43:04.101160Z",
          "shell.execute_reply": "2022-02-04T19:43:04.170297Z"
        },
        "trusted": true,
        "colab": {
          "base_uri": "https://localhost:8080/"
        }
      },
      "execution_count": 43,
      "outputs": [
        {
          "output_type": "stream",
          "name": "stdout",
          "text": [
            "[0.37604260444641113, 0.6350694894790649, 0.07485029101371765, 0.5461792349815369, 0.5365097522735596]\n",
            "0.6350694894790649\n",
            "1\n",
            "Statement is :  I am gping to temple\n",
            "Classification Result is :  ⚾\n"
          ]
        }
      ]
    },
    {
      "cell_type": "code",
      "source": [
        ""
      ],
      "metadata": {
        "id": "seWUMc2y-TgK"
      },
      "execution_count": null,
      "outputs": []
    },
    {
      "cell_type": "code",
      "source": [
        ""
      ],
      "metadata": {
        "id": "zZqk6Hpu-JZE"
      },
      "execution_count": null,
      "outputs": []
    }
  ]
}